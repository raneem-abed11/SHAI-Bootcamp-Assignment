{
 "cells": [
  {
   "cell_type": "markdown",
   "id": "addb9784-044a-4027-bd14-900a65ad9094",
   "metadata": {},
   "source": [
    "# Shai_Assignment"
   ]
  },
  {
   "cell_type": "markdown",
   "id": "dc896011-1fe7-4b95-8830-9428bee55ff3",
   "metadata": {},
   "source": [
    "# Basic Data Exploration :"
   ]
  },
  {
   "cell_type": "code",
   "execution_count": 1,
   "id": "79f4fb0b-ab51-4c2b-96ab-d03efcbfc0b0",
   "metadata": {},
   "outputs": [],
   "source": [
    "import pandas as pd\n",
    "import numpy as np\n",
    "from matplotlib import pyplot as plt\n",
    "\n",
    "# Load your dataset\n",
    "df = pd.read_csv('Salaries.csv')"
   ]
  },
  {
   "cell_type": "markdown",
   "id": "e34cf33b-35db-4524-8dca-bb44d1b73456",
   "metadata": {},
   "source": [
    "Identify the number of rows and columns in the dataset."
   ]
  },
  {
   "cell_type": "code",
   "execution_count": 2,
   "id": "a4d4876f-ccab-4945-88d3-2babba850a40",
   "metadata": {},
   "outputs": [
    {
     "name": "stdout",
     "output_type": "stream",
     "text": [
      "The number of rows is: 148654\n",
      "The number of columns is: 13\n"
     ]
    }
   ],
   "source": [
    "R=df.iloc[:, 0].count()\n",
    "C=df.iloc[0].isnull().count()\n",
    "print('The number of rows is:',R)\n",
    "print('The number of columns is:',C)"
   ]
  },
  {
   "cell_type": "markdown",
   "id": "ab246685-01b8-4fcc-8c2e-d8ca7950f744",
   "metadata": {},
   "source": [
    "Determine the data types of each column."
   ]
  },
  {
   "cell_type": "code",
   "execution_count": 3,
   "id": "da8b4627-b9bc-48a2-b936-df8a39e22fd0",
   "metadata": {},
   "outputs": [
    {
     "data": {
      "text/plain": [
       "Id                    int64\n",
       "EmployeeName         object\n",
       "JobTitle             object\n",
       "BasePay             float64\n",
       "OvertimePay         float64\n",
       "OtherPay            float64\n",
       "Benefits            float64\n",
       "TotalPay            float64\n",
       "TotalPayBenefits    float64\n",
       "Year                  int64\n",
       "Notes               float64\n",
       "Agency               object\n",
       "Status              float64\n",
       "dtype: object"
      ]
     },
     "execution_count": 3,
     "metadata": {},
     "output_type": "execute_result"
    }
   ],
   "source": [
    "types_of_cols = df.dtypes\n",
    "types_of_cols"
   ]
  },
  {
   "cell_type": "markdown",
   "id": "62675c69-d788-488e-89ba-016cec1cef6f",
   "metadata": {},
   "source": [
    "Check for missing values in each column."
   ]
  },
  {
   "cell_type": "code",
   "execution_count": 4,
   "id": "78f129df-093e-4e8c-8a91-c15c142f435b",
   "metadata": {},
   "outputs": [
    {
     "data": {
      "text/plain": [
       "Id                  False\n",
       "EmployeeName        False\n",
       "JobTitle            False\n",
       "BasePay              True\n",
       "OvertimePay          True\n",
       "OtherPay             True\n",
       "Benefits             True\n",
       "TotalPay            False\n",
       "TotalPayBenefits    False\n",
       "Year                False\n",
       "Notes                True\n",
       "Agency              False\n",
       "Status               True\n",
       "dtype: bool"
      ]
     },
     "execution_count": 4,
     "metadata": {},
     "output_type": "execute_result"
    }
   ],
   "source": [
    "cols_have_missing_values=df.isna().any()\n",
    "cols_have_missing_values"
   ]
  },
  {
   "cell_type": "code",
   "execution_count": 5,
   "id": "a1ba60db-6d86-4326-9f55-4693c7b63503",
   "metadata": {},
   "outputs": [
    {
     "data": {
      "text/plain": [
       "Id                  False\n",
       "EmployeeName        False\n",
       "JobTitle            False\n",
       "BasePay             False\n",
       "OvertimePay         False\n",
       "OtherPay            False\n",
       "Benefits            False\n",
       "TotalPay            False\n",
       "TotalPayBenefits    False\n",
       "Year                False\n",
       "Notes                True\n",
       "Agency              False\n",
       "Status               True\n",
       "dtype: bool"
      ]
     },
     "execution_count": 5,
     "metadata": {},
     "output_type": "execute_result"
    }
   ],
   "source": [
    "empty_cols=df.isna().all()\n",
    "empty_cols"
   ]
  },
  {
   "cell_type": "markdown",
   "id": "939b0634-097e-4433-b088-8f9fd61e4714",
   "metadata": {},
   "source": [
    "The \"Notes\" and \"Status\" columns are empty(filled with NaN), while the \"BasePay\", \"OvertimePay\",\"OtherPay\" and \"Benefits\" columns have some missing values."
   ]
  },
  {
   "cell_type": "markdown",
   "id": "54cd8a34-1895-45a2-a973-bbcd41b076ca",
   "metadata": {},
   "source": [
    "# Descriptive Statistics:"
   ]
  },
  {
   "cell_type": "markdown",
   "id": "300f4e9a-0f9e-4720-bf85-867a8e3d6e9f",
   "metadata": {},
   "source": [
    "Calculate basic statistics mean, median, mode, minimum, and maximum salary, determine the range of salaries."
   ]
  },
  {
   "cell_type": "code",
   "execution_count": 6,
   "id": "a238dbcb-3fc5-4382-90da-0824cd304a95",
   "metadata": {},
   "outputs": [
    {
     "name": "stdout",
     "output_type": "stream",
     "text": [
      "mean: 74768.32197169267\n",
      "median: 71426.60999999999\n",
      "\n",
      "mode: 0    0.0\n",
      "Name: TotalPay, dtype: float64\n",
      "\n",
      "minimum salary: -618.13\n",
      "maximum salary: 567595.43\n",
      "range: 568213.56\n"
     ]
    }
   ],
   "source": [
    "mean, median, mod, min, max, rnge =[df['TotalPay'].mean(),\n",
    "                                     df['TotalPay'].median(),\n",
    "                                     df['TotalPay'].mode(),\n",
    "                                     df['TotalPay'].min(),\n",
    "                                     df['TotalPay'].max(),\n",
    "                                     df['TotalPay'].max()-df['TotalPay'].min()]\n",
    "print(f'mean: {mean}\\nmedian: {median}\\n\\nmode: {mod}\\n\\nminimum salary: {min}\\nmaximum salary: {max}\\nrange: {rnge}')"
   ]
  },
  {
   "cell_type": "markdown",
   "id": "02f629d3-71f8-47a8-9d8f-566667eca4aa",
   "metadata": {},
   "source": [
    "A negative minimum salary implies that the range of salary exceeds the maximum salary, which is illogical. This suggests a data error or an unusual situation."
   ]
  },
  {
   "cell_type": "markdown",
   "id": "13e77129-5cc5-4acb-9ffe-7e1d6c242725",
   "metadata": {},
   "source": [
    "# Data Cleaning:"
   ]
  },
  {
   "cell_type": "markdown",
   "id": "597f0708-3f52-4c1d-9dea-04a2fa01a375",
   "metadata": {},
   "source": [
    "Handle missing data by suitable method with explain why you use it."
   ]
  },
  {
   "cell_type": "markdown",
   "id": "0a06f1ad-512a-407c-b576-095901055648",
   "metadata": {},
   "source": [
    "Since the ‘Notes’ and ‘Status’ columns have no values, I will remove them."
   ]
  },
  {
   "cell_type": "code",
   "execution_count": 7,
   "id": "5392c91d-035e-43ad-b201-a38f504c86a7",
   "metadata": {},
   "outputs": [
    {
     "data": {
      "text/html": [
       "<div>\n",
       "<style scoped>\n",
       "    .dataframe tbody tr th:only-of-type {\n",
       "        vertical-align: middle;\n",
       "    }\n",
       "\n",
       "    .dataframe tbody tr th {\n",
       "        vertical-align: top;\n",
       "    }\n",
       "\n",
       "    .dataframe thead th {\n",
       "        text-align: right;\n",
       "    }\n",
       "</style>\n",
       "<table border=\"1\" class=\"dataframe\">\n",
       "  <thead>\n",
       "    <tr style=\"text-align: right;\">\n",
       "      <th></th>\n",
       "      <th>Id</th>\n",
       "      <th>EmployeeName</th>\n",
       "      <th>JobTitle</th>\n",
       "      <th>BasePay</th>\n",
       "      <th>OvertimePay</th>\n",
       "      <th>OtherPay</th>\n",
       "      <th>Benefits</th>\n",
       "      <th>TotalPay</th>\n",
       "      <th>TotalPayBenefits</th>\n",
       "      <th>Year</th>\n",
       "      <th>Agency</th>\n",
       "    </tr>\n",
       "  </thead>\n",
       "  <tbody>\n",
       "    <tr>\n",
       "      <th>0</th>\n",
       "      <td>1</td>\n",
       "      <td>NATHANIEL FORD</td>\n",
       "      <td>GENERAL MANAGER-METROPOLITAN TRANSIT AUTHORITY</td>\n",
       "      <td>167411.18</td>\n",
       "      <td>0.00</td>\n",
       "      <td>400184.25</td>\n",
       "      <td>NaN</td>\n",
       "      <td>567595.43</td>\n",
       "      <td>567595.43</td>\n",
       "      <td>2011</td>\n",
       "      <td>San Francisco</td>\n",
       "    </tr>\n",
       "    <tr>\n",
       "      <th>1</th>\n",
       "      <td>2</td>\n",
       "      <td>GARY JIMENEZ</td>\n",
       "      <td>CAPTAIN III (POLICE DEPARTMENT)</td>\n",
       "      <td>155966.02</td>\n",
       "      <td>245131.88</td>\n",
       "      <td>137811.38</td>\n",
       "      <td>NaN</td>\n",
       "      <td>538909.28</td>\n",
       "      <td>538909.28</td>\n",
       "      <td>2011</td>\n",
       "      <td>San Francisco</td>\n",
       "    </tr>\n",
       "    <tr>\n",
       "      <th>2</th>\n",
       "      <td>3</td>\n",
       "      <td>ALBERT PARDINI</td>\n",
       "      <td>CAPTAIN III (POLICE DEPARTMENT)</td>\n",
       "      <td>212739.13</td>\n",
       "      <td>106088.18</td>\n",
       "      <td>16452.60</td>\n",
       "      <td>NaN</td>\n",
       "      <td>335279.91</td>\n",
       "      <td>335279.91</td>\n",
       "      <td>2011</td>\n",
       "      <td>San Francisco</td>\n",
       "    </tr>\n",
       "    <tr>\n",
       "      <th>3</th>\n",
       "      <td>4</td>\n",
       "      <td>CHRISTOPHER CHONG</td>\n",
       "      <td>WIRE ROPE CABLE MAINTENANCE MECHANIC</td>\n",
       "      <td>77916.00</td>\n",
       "      <td>56120.71</td>\n",
       "      <td>198306.90</td>\n",
       "      <td>NaN</td>\n",
       "      <td>332343.61</td>\n",
       "      <td>332343.61</td>\n",
       "      <td>2011</td>\n",
       "      <td>San Francisco</td>\n",
       "    </tr>\n",
       "    <tr>\n",
       "      <th>4</th>\n",
       "      <td>5</td>\n",
       "      <td>PATRICK GARDNER</td>\n",
       "      <td>DEPUTY CHIEF OF DEPARTMENT,(FIRE DEPARTMENT)</td>\n",
       "      <td>134401.60</td>\n",
       "      <td>9737.00</td>\n",
       "      <td>182234.59</td>\n",
       "      <td>NaN</td>\n",
       "      <td>326373.19</td>\n",
       "      <td>326373.19</td>\n",
       "      <td>2011</td>\n",
       "      <td>San Francisco</td>\n",
       "    </tr>\n",
       "  </tbody>\n",
       "</table>\n",
       "</div>"
      ],
      "text/plain": [
       "   Id       EmployeeName                                        JobTitle  \\\n",
       "0   1     NATHANIEL FORD  GENERAL MANAGER-METROPOLITAN TRANSIT AUTHORITY   \n",
       "1   2       GARY JIMENEZ                 CAPTAIN III (POLICE DEPARTMENT)   \n",
       "2   3     ALBERT PARDINI                 CAPTAIN III (POLICE DEPARTMENT)   \n",
       "3   4  CHRISTOPHER CHONG            WIRE ROPE CABLE MAINTENANCE MECHANIC   \n",
       "4   5    PATRICK GARDNER    DEPUTY CHIEF OF DEPARTMENT,(FIRE DEPARTMENT)   \n",
       "\n",
       "     BasePay  OvertimePay   OtherPay  Benefits   TotalPay  TotalPayBenefits  \\\n",
       "0  167411.18         0.00  400184.25       NaN  567595.43         567595.43   \n",
       "1  155966.02    245131.88  137811.38       NaN  538909.28         538909.28   \n",
       "2  212739.13    106088.18   16452.60       NaN  335279.91         335279.91   \n",
       "3   77916.00     56120.71  198306.90       NaN  332343.61         332343.61   \n",
       "4  134401.60      9737.00  182234.59       NaN  326373.19         326373.19   \n",
       "\n",
       "   Year         Agency  \n",
       "0  2011  San Francisco  \n",
       "1  2011  San Francisco  \n",
       "2  2011  San Francisco  \n",
       "3  2011  San Francisco  \n",
       "4  2011  San Francisco  "
      ]
     },
     "execution_count": 7,
     "metadata": {},
     "output_type": "execute_result"
    }
   ],
   "source": [
    "df.drop(['Notes','Status' ],axis=1,inplace=True)\n",
    "df.head()"
   ]
  },
  {
   "cell_type": "markdown",
   "id": "fb8b1b60-813a-4f79-82ab-3e05523f2969",
   "metadata": {},
   "source": [
    "To handle missing values, I use different methods for different columns. I fill the NaN values of Benefits, OvertimePay, and OtherPay with zeros. I fill the NaN values of BasePay with the mean BasePay."
   ]
  },
  {
   "cell_type": "code",
   "execution_count": 8,
   "id": "0211514b-1c43-4812-ab0a-600b39bbc24e",
   "metadata": {},
   "outputs": [],
   "source": [
    "new_values={                              \n",
    "                \"Benefits\" : 0.0 , \n",
    "                \"BasePay\" : df[\"BasePay\"].mean() ,\n",
    "                \"OvertimePay\" : 0.0 ,\n",
    "                \"OtherPay\" : 0.0 }\n",
    "df = df.fillna(new_values)"
   ]
  },
  {
   "cell_type": "markdown",
   "id": "551b2a7d-d87e-4b0b-ada8-99a8d99263ba",
   "metadata": {},
   "source": [
    "# Basic Data Visualization:"
   ]
  },
  {
   "cell_type": "code",
   "execution_count": 9,
   "id": "b40f9b8b-3139-4505-a136-0fd602936a45",
   "metadata": {},
   "outputs": [
    {
     "data": {
      "image/png": "[encoded data removed]",
      "text/plain": [
       "<Figure size 640x480 with 1 Axes>"
      ]
     },
     "metadata": {},
     "output_type": "display_data"
    }
   ],
   "source": [
    "s = df['TotalPay'].tolist()\n",
    "\n",
    "plt.hist(s,100)\n",
    "plt.xlabel('TotalPay', color='black')\n",
    "plt.ylabel('Number of Employees', color='black')\n",
    "plt.title('Distribution of TotalPay')\n",
    "plt.show() "
   ]
  },
  {
   "cell_type": "code",
   "execution_count": 10,
   "id": "7ac4a424-4384-414a-8c9e-6381fcd304d6",
   "metadata": {},
   "outputs": [
    {
     "data": {
      "text/plain": [
       "array(['Other Departments', 'POLICE DEPARTMENT', 'FIRE DEPARTMENT',\n",
       "       'CIVIL & CRIMINAL', 'CIVIL/CRIMINAL', 'MFCC', 'SEASONAL',\n",
       "       'Fire Dept', 'Cvl&Crmnl', 'Civil & Criminal', 'SFERS',\n",
       "       'Police Department', 'Civil/Criminal', 'Seasonal',\n",
       "       'Fire Department'], dtype=object)"
      ]
     },
     "execution_count": 10,
     "metadata": {},
     "output_type": "execute_result"
    }
   ],
   "source": [
    "# extract the department from the job title\n",
    "df['Department'] = df['JobTitle'].str.extract('\\((.*)\\)', expand=False)\n",
    "\n",
    "\n",
    "df['Department'] = df['Department'].fillna('Other Departments')\n",
    "\n",
    "unique_departments = df['Department'].unique()\n",
    "unique_departments"
   ]
  },
  {
   "cell_type": "code",
   "execution_count": 11,
   "id": "df0cfec0-6a6a-479b-bbdf-b8701409cf4a",
   "metadata": {},
   "outputs": [],
   "source": [
    "df.loc[df[\"Department\"].isin([\"Civil/Criminal\", \"Civil & Criminal\", \"CIVIL & CRIMINAL\",\"Cvl&Crmnl\",\"CIVIL/CRIMINAL\"]), \"Department\"] = \"CIVIL & CRIMINAL\"\n",
    "df.loc[df[\"Department\"].isin([\"POLICE DEPARTMENT\", \"Police Department\"]), \"Department\"] = \"POLICE DEPARTMENT\"\n",
    "df.loc[df[\"Department\"].isin([\"FIRE DEPARTMENT\", \"Fire Department\",\"Fire Dept\"]), \"Department\"] = \"FIRE DEPARTMENT\"\n",
    "df.loc[df[\"Department\"].isin([\"Seasonal\", \"SEASONAL\"]), \"Department\"] = \"SEASONAL\"\n",
    "\n"
   ]
  },
  {
   "cell_type": "code",
   "execution_count": 12,
   "id": "c646601d-2a9d-43d3-93ee-bdec3e2f884e",
   "metadata": {},
   "outputs": [
    {
     "data": {
      "text/plain": [
       "{'Other Departments': 0.9825500827424758,\n",
       " 'POLICE DEPARTMENT': 0.004789645754571017,\n",
       " 'FIRE DEPARTMENT': 0.0005247083832254766,\n",
       " 'CIVIL & CRIMINAL': 0.01031926487010104,\n",
       " 'SFERS': 0.0004305299554670577,\n",
       " 'Seasonal': 0.0007803355442840422,\n",
       " 'MFCC': 0.0006054327498755499}"
      ]
     },
     "execution_count": 12,
     "metadata": {},
     "output_type": "execute_result"
    }
   ],
   "source": [
    "fraction={}\n",
    "fraction[\"Other Departments\"]=len(df[(df['Department']=='Other Departments')] )/  len(df[\"Department\"])\n",
    "fraction[\"POLICE DEPARTMENT\"]=len(df[df['Department']=='POLICE DEPARTMENT'] )/  len(df[\"Department\"])\n",
    "fraction[\"FIRE DEPARTMENT\"]=len(df[df['Department']=='FIRE DEPARTMENT'] )/  len(df[\"Department\"])\n",
    "fraction[\"CIVIL & CRIMINAL\"]=len(df[df['Department']=='CIVIL & CRIMINAL'] )/  len(df[\"Department\"])\n",
    "fraction[\"SFERS\"]=len(df[(df['Department']=='SFERS')] )/  len(df[\"Department\"])\n",
    "fraction[\"Seasonal\"]=len(df[(df['Department']=='SEASONAL')] )/  len(df[\"Department\"])\n",
    "fraction[\"MFCC\"]=len(df[(df['Department']=='MFCC')] )/  len(df[\"Department\"])\n",
    "fraction"
   ]
  },
  {
   "cell_type": "markdown",
   "id": "9e771971-c374-49df-baae-a7156c2ac622",
   "metadata": {},
   "source": [
    "The other Departments accounts for 98.3% of the data, so I will exclude them from the figure."
   ]
  },
  {
   "cell_type": "code",
   "execution_count": 13,
   "id": "644158ac-a665-4904-9b61-5211e666d73e",
   "metadata": {},
   "outputs": [
    {
     "data": {
      "text/plain": [
       "([<matplotlib.patches.Wedge at 0x1f5f2c4c350>,\n",
       "  <matplotlib.patches.Wedge at 0x1f5f2c95610>,\n",
       "  <matplotlib.patches.Wedge at 0x1f5f2c787d0>,\n",
       "  <matplotlib.patches.Wedge at 0x1f5f2c79a10>,\n",
       "  <matplotlib.patches.Wedge at 0x1f5f2c353d0>,\n",
       "  <matplotlib.patches.Wedge at 0x1f5f2c37f90>],\n",
       " [Text(0.7157593973618306, 0.8352774898728142, 'POLICE DEPARTMENT'),\n",
       "  Text(-0.27030611249664205, 1.0662713564318198, 'FIRE DEPARTMENT'),\n",
       "  Text(-0.8889778558639347, -0.6478567525183029, 'CIVIL & CRIMINAL'),\n",
       "  Text(0.922223406477865, -0.5995865146451869, 'SFERS'),\n",
       "  Text(1.0300724084715365, -0.3859414894846737, 'Seasonal'),\n",
       "  Text(1.093472110280153, -0.119660954531832, 'MFCC')],\n",
       " [Text(0.3904142167428166, 0.45560590356698955, '27.4%'),\n",
       "  Text(-0.1474396977254411, 0.5816025580537197, '3.0%'),\n",
       "  Text(-0.48489701228941884, -0.3533764104645288, '59.1%'),\n",
       "  Text(0.5030309489879263, -0.3270471898064655, '2.5%'),\n",
       "  Text(0.5618576773481107, -0.2105135397189129, '4.5%'),\n",
       "  Text(0.5964393328800834, -0.06526961156281744, '3.5%')])"
      ]
     },
     "execution_count": 13,
     "metadata": {},
     "output_type": "execute_result"
    },
    {
     "data": {
      "image/png": "[encoded data removed]",
      "text/plain": [
       "<Figure size 640x480 with 1 Axes>"
      ]
     },
     "metadata": {},
     "output_type": "display_data"
    }
   ],
   "source": [
    "names = []\n",
    "values = []\n",
    "for key,value in fraction.items():\n",
    "    names.append(key)\n",
    "    values.append(value)\n",
    "fig, ax = plt.subplots()\n",
    "ax.pie(values[1:], labels=names[1:], autopct='%.1f%%')"
   ]
  },
  {
   "cell_type": "markdown",
   "id": "8db95cbd-cd66-4a11-852f-b8e7437da0e4",
   "metadata": {},
   "source": [
    "# Grouped Analysis:"
   ]
  },
  {
   "cell_type": "markdown",
   "id": "d990c166-03d5-48aa-b8fe-b7e731e5d333",
   "metadata": {},
   "source": [
    "Group the data by one or more columns and calculate summary statistics for each group, and compare the average salaries across different groups."
   ]
  },
  {
   "cell_type": "code",
   "execution_count": 14,
   "id": "21d843f6-707f-4b82-a8d2-909313dad550",
   "metadata": {},
   "outputs": [
    {
     "data": {
      "text/html": [
       "<div>\n",
       "<style scoped>\n",
       "    .dataframe tbody tr th:only-of-type {\n",
       "        vertical-align: middle;\n",
       "    }\n",
       "\n",
       "    .dataframe tbody tr th {\n",
       "        vertical-align: top;\n",
       "    }\n",
       "\n",
       "    .dataframe thead tr th {\n",
       "        text-align: left;\n",
       "    }\n",
       "\n",
       "    .dataframe thead tr:last-of-type th {\n",
       "        text-align: right;\n",
       "    }\n",
       "</style>\n",
       "<table border=\"1\" class=\"dataframe\">\n",
       "  <thead>\n",
       "    <tr>\n",
       "      <th></th>\n",
       "      <th colspan=\"5\" halign=\"left\">TotalPay</th>\n",
       "    </tr>\n",
       "    <tr>\n",
       "      <th></th>\n",
       "      <th>mean</th>\n",
       "      <th>median</th>\n",
       "      <th>min</th>\n",
       "      <th>max</th>\n",
       "      <th>count</th>\n",
       "    </tr>\n",
       "    <tr>\n",
       "      <th>Year</th>\n",
       "      <th></th>\n",
       "      <th></th>\n",
       "      <th></th>\n",
       "      <th></th>\n",
       "      <th></th>\n",
       "    </tr>\n",
       "  </thead>\n",
       "  <tbody>\n",
       "    <tr>\n",
       "      <th>2011</th>\n",
       "      <td>71744.103871</td>\n",
       "      <td>68213.240</td>\n",
       "      <td>0.00</td>\n",
       "      <td>567595.43</td>\n",
       "      <td>36159</td>\n",
       "    </tr>\n",
       "    <tr>\n",
       "      <th>2012</th>\n",
       "      <td>74113.262265</td>\n",
       "      <td>70714.680</td>\n",
       "      <td>0.00</td>\n",
       "      <td>362844.66</td>\n",
       "      <td>36766</td>\n",
       "    </tr>\n",
       "    <tr>\n",
       "      <th>2013</th>\n",
       "      <td>77611.443142</td>\n",
       "      <td>74500.015</td>\n",
       "      <td>0.00</td>\n",
       "      <td>347102.32</td>\n",
       "      <td>37606</td>\n",
       "    </tr>\n",
       "    <tr>\n",
       "      <th>2014</th>\n",
       "      <td>75463.918140</td>\n",
       "      <td>72359.980</td>\n",
       "      <td>-618.13</td>\n",
       "      <td>471952.64</td>\n",
       "      <td>38123</td>\n",
       "    </tr>\n",
       "  </tbody>\n",
       "</table>\n",
       "</div>"
      ],
      "text/plain": [
       "          TotalPay                                     \n",
       "              mean     median     min        max  count\n",
       "Year                                                   \n",
       "2011  71744.103871  68213.240    0.00  567595.43  36159\n",
       "2012  74113.262265  70714.680    0.00  362844.66  36766\n",
       "2013  77611.443142  74500.015    0.00  347102.32  37606\n",
       "2014  75463.918140  72359.980 -618.13  471952.64  38123"
      ]
     },
     "execution_count": 14,
     "metadata": {},
     "output_type": "execute_result"
    }
   ],
   "source": [
    "df.groupby(by='Year').agg({'TotalPay':['mean','median','min','max','count']})"
   ]
  },
  {
   "cell_type": "markdown",
   "id": "7c0e544e-4bdc-4cb2-9b0a-da8f7387db9f",
   "metadata": {},
   "source": [
    "The average salaries reached its peak in 2013 and its trough in 2011. The minimum salary was usually 0.0, except for 2014, when it was -618.13, a negative value."
   ]
  },
  {
   "cell_type": "markdown",
   "id": "a0315e9d-4ffe-4a6c-92c4-f96cac6f79b2",
   "metadata": {},
   "source": [
    "# Simple Correlation Analysis: \n",
    "Identify any correlation between salary and another numerical column, and plot a scatter plot to visualize the relationship."
   ]
  },
  {
   "cell_type": "code",
   "execution_count": 15,
   "id": "3058bd85-17e8-4baa-8040-7451c18cf3bd",
   "metadata": {},
   "outputs": [
    {
     "data": {
      "text/plain": [
       "0.4704987725357748"
      ]
     },
     "execution_count": 15,
     "metadata": {},
     "output_type": "execute_result"
    }
   ],
   "source": [
    "df[\"OtherPay\"].corr(df[\"TotalPay\"])"
   ]
  },
  {
   "cell_type": "markdown",
   "id": "e8ae02aa-69a1-42fe-b7b6-83a1265eecdc",
   "metadata": {},
   "source": [
    "There is a fair correlation between The OtherPay and TotalPay"
   ]
  },
  {
   "cell_type": "code",
   "execution_count": 16,
   "id": "2aa49f8d-ed99-42e0-8c06-3c4abbc3d464",
   "metadata": {},
   "outputs": [
    {
     "data": {
      "image/png": "[encoded data removed]",
      "text/plain": [
       "<Figure size 640x480 with 1 Axes>"
      ]
     },
     "metadata": {},
     "output_type": "display_data"
    }
   ],
   "source": [
    "plt.scatter(df['TotalPay'],df['OtherPay'],color = 'blue')\n",
    "plt.xlabel(\"TotalPay\", color = 'black', size = 25)\n",
    "plt.ylabel(\"OtherPay\", color = 'black', size = 25)\n",
    "plt.show()"
   ]
  },
  {
   "cell_type": "code",
   "execution_count": 17,
   "id": "8e84906d-dc6d-4208-8eaa-6873e52abdab",
   "metadata": {},
   "outputs": [
    {
     "data": {
      "text/plain": [
       "0.6322018839186374"
      ]
     },
     "execution_count": 17,
     "metadata": {},
     "output_type": "execute_result"
    }
   ],
   "source": [
    "df[\"Benefits\"].corr(df[\"TotalPay\"])"
   ]
  },
  {
   "cell_type": "markdown",
   "id": "0e180e9c-a1f3-4cec-baec-c208c440386e",
   "metadata": {},
   "source": [
    "Here we have a strong positive correlation between TotalPay(Salary) and Benefits."
   ]
  },
  {
   "cell_type": "code",
   "execution_count": 18,
   "id": "3cdec6d3-5c02-4d0e-88c7-6a6a156e09af",
   "metadata": {},
   "outputs": [
    {
     "data": {
      "image/png": "[encoded data removed]",
      "text/plain": [
       "<Figure size 640x480 with 1 Axes>"
      ]
     },
     "metadata": {},
     "output_type": "display_data"
    }
   ],
   "source": [
    "plt.scatter(df['TotalPay'],df['Benefits'],color = 'red')\n",
    "plt.xlabel(\"TotalPay\", color = 'black', size = 25)\n",
    "plt.ylabel(\"Benefits\", color = 'black', size = 25)\n",
    "plt.show()"
   ]
  },
  {
   "cell_type": "markdown",
   "id": "45010b09-f98f-4723-8eaa-455bfcf9c1ba",
   "metadata": {},
   "source": [
    "# Summary of Insights\n",
    "Write a brief report summarizing the findings and insights from the analyses:"
   ]
  },
  {
   "cell_type": "markdown",
   "id": "bf1caca9-4517-45bc-b5df-275a7c0e2745",
   "metadata": {},
   "source": [
    "The distribution of salary is $right-skewed$, meaning that most of the employees have lower salary than the average, and only a few have very high salary. The median TotalPay is **71426.61**, which is lower than the mean totalPay **74768.32**, indicating the skewness."
   ]
  },
  {
   "cell_type": "markdown",
   "id": "bb5e9829-0649-4654-a05a-b900699840cc",
   "metadata": {},
   "source": [
    "The minimum salary is **-618.13**, which indicates some data entry errors, and the maximum salary is **$567,595.43**, which belongs to Nathaniel Ford, the general manager of the metropolitan transit authority in 2011."
   ]
  },
  {
   "cell_type": "markdown",
   "id": "78e7769c-9a84-467b-a4af-e737330dc5d8",
   "metadata": {},
   "source": [
    "It is unrealistic to have a significant number of employees with a BasePay of 0.0, as this implies that they rely entirely on otherPay and Benefits. A more reasonable assumption is that every employee has a BasePay **bigger than zero**."
   ]
  },
  {
   "cell_type": "markdown",
   "id": "838ee34d-4339-4dfd-a879-760bc422c784",
   "metadata": {},
   "source": [
    "The only agency in the data is **San Francisco**, which means that the data is not diverse or comprehensive enough to compare with other agencies or locations"
   ]
  }
 ],
 "metadata": {
  "kernelspec": {
   "display_name": "Python 3 (ipykernel)",
   "language": "python",
   "name": "python3"
  },
  "language_info": {
   "codemirror_mode": {
    "name": "ipython",
    "version": 3
   },
   "file_extension": ".py",
   "mimetype": "text/x-python",
   "name": "python",
   "nbconvert_exporter": "python",
   "pygments_lexer": "ipython3",
   "version": "3.11.4"
  }
 },
 "nbformat": 4,
 "nbformat_minor": 5
}
